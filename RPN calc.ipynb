{
 "metadata": {
  "name": "",
  "signature": "sha256:9f08b477a8e50ab063b65d944920b4e2e3801d27f6b112703c207e5f345ef364"
 },
 "nbformat": 3,
 "nbformat_minor": 0,
 "worksheets": [
  {
   "cells": [
    {
     "cell_type": "code",
     "collapsed": false,
     "input": [
      "example_calculation = '1 1 5 +'\n",
      "\n",
      "stack = []\n",
      "\n",
      "\n",
      "    \n"
     ],
     "language": "python",
     "metadata": {},
     "outputs": [
      {
       "output_type": "stream",
       "stream": "stdout",
       "text": [
        "6.0\n"
       ]
      }
     ],
     "prompt_number": 7
    },
    {
     "cell_type": "code",
     "collapsed": false,
     "input": [
      "def parse_rpn(expression):\n",
      "    '''Parse an expression in reverse polish notation\n",
      "    '''\n",
      "    stack = []\n",
      "    \n",
      "    for val in expression.split():\n",
      "        if val in ['-', '+', '*', '/', '^']:\n",
      "            op1 = stack.pop()\n",
      "            op2 = stack.pop()\n",
      "            if val == '-':\n",
      "                result = op1 - op2\n",
      "            elif val == '+':\n",
      "                result = op1 + op2\n",
      "            elif val == '*':\n",
      "                result = op1 * op2\n",
      "            elif val == '/':\n",
      "                result = op1 / op2\n",
      "            elif val == '^':\n",
      "                result = op1 ** 1/op2\n",
      "\n",
      "            stack.append(result)\n",
      "        else:\n",
      "            stack.append(float(val))\n",
      "        \n",
      "    return stack.pop()"
     ],
     "language": "python",
     "metadata": {},
     "outputs": [],
     "prompt_number": 46
    },
    {
     "cell_type": "code",
     "collapsed": false,
     "input": [
      "parse_rpn('3 5 + 10 *')"
     ],
     "language": "python",
     "metadata": {},
     "outputs": [
      {
       "metadata": {},
       "output_type": "pyout",
       "prompt_number": 47,
       "text": [
        "80.0"
       ]
      }
     ],
     "prompt_number": 47
    },
    {
     "cell_type": "code",
     "collapsed": false,
     "input": [
      "from collections import namedtuple\n",
      " \n",
      "OpInfo = namedtuple('OpInfo', 'prec assoc')\n",
      "L, R = 'Left Right'.split()\n",
      " \n",
      "ops = {\n",
      " '^': OpInfo(prec=4, assoc=R),\n",
      " '*': OpInfo(prec=3, assoc=L),\n",
      " '/': OpInfo(prec=3, assoc=L),\n",
      " '+': OpInfo(prec=2, assoc=L),\n",
      " '-': OpInfo(prec=2, assoc=L),\n",
      " '(': OpInfo(prec=9, assoc=L),\n",
      " ')': OpInfo(prec=0, assoc=L),\n",
      " }\n",
      " \n",
      "NUM, LPAREN, RPAREN = 'NUMBER ( )'.split()\n",
      " \n",
      " \n",
      "def get_input(inp = None):\n",
      "    'Inputs an expression and returns list of (TOKENTYPE, tokenvalue)'\n",
      " \n",
      "    if inp is None:\n",
      "        inp = input('expression: ')\n",
      "    tokens = inp.strip().split()\n",
      "    tokenvals = []\n",
      "    for token in tokens:\n",
      "        if token in ops:\n",
      "            tokenvals.append((token, ops[token]))\n",
      "        else:    \n",
      "            tokenvals.append((NUM, token))\n",
      "    return tokenvals\n",
      " \n",
      "def shunting(tokenvals):\n",
      "    outq, stack = [], []\n",
      "    for token, val in tokenvals:\n",
      "        if token is NUM:\n",
      "            outq.append(val)\n",
      "        elif token in ops:\n",
      "            t1, (p1, a1) = token, val\n",
      "            while stack:\n",
      "                t2, (p2, a2) = stack[-1]\n",
      "                if (a1 == L and p1 <= p2) or (a1 == R and p1 < p2):\n",
      "                    if t1 != RPAREN:\n",
      "                        if t2 != LPAREN:\n",
      "                            stack.pop()\n",
      "                            outq.append(t2)\n",
      "                        else:    \n",
      "                            break\n",
      "                    else:        \n",
      "                        if t2 != LPAREN:\n",
      "                            stack.pop()\n",
      "                            outq.append(t2)\n",
      "                        else:    \n",
      "                            stack.pop()\n",
      "                            break\n",
      "                else:\n",
      "                    break\n",
      "            if t1 != RPAREN:\n",
      "                stack.append((token, val))\n",
      "    while stack:\n",
      "        t2, (p2, a2) = stack[-1]\n",
      "        stack.pop()\n",
      "        outq.append(t2)\n",
      "    return ' '.join(outq)\n",
      " \n",
      "print shunting(get_input('3 + 4 * 2 / ( 1 - 5 ) ^ 2 ^ 3'))"
     ],
     "language": "python",
     "metadata": {},
     "outputs": [
      {
       "output_type": "stream",
       "stream": "stdout",
       "text": [
        "3 4 2 * 1 5 - 2 3 ^ ^ / +\n"
       ]
      }
     ],
     "prompt_number": 48
    },
    {
     "cell_type": "code",
     "collapsed": false,
     "input": [
      "parse_rpn(shunting(get_input('3 + 4 * 2 / ( 1 - 5 ) ^ 2 ^ 3')))"
     ],
     "language": "python",
     "metadata": {},
     "outputs": [
      {
       "metadata": {},
       "output_type": "pyout",
       "prompt_number": 49,
       "text": [
        "3.046875"
       ]
      }
     ],
     "prompt_number": 49
    },
    {
     "cell_type": "code",
     "collapsed": false,
     "input": [],
     "language": "python",
     "metadata": {},
     "outputs": [],
     "prompt_number": 44
    },
    {
     "cell_type": "code",
     "collapsed": false,
     "input": [],
     "language": "python",
     "metadata": {},
     "outputs": []
    }
   ],
   "metadata": {}
  }
 ]
}